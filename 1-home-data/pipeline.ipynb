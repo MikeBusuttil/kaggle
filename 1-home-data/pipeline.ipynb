{
 "cells": [
  {
   "cell_type": "code",
   "execution_count": null,
   "metadata": {},
   "outputs": [],
   "source": [
    "from sklearn.preprocessing import OneHotEncoder\n",
    "# load data\n",
    "# define each column transformation:\n",
    "\n",
    "global training___data\n",
    "global validation_data\n",
    "\n",
    "def drop(column_name, data_set):\n",
    "    training___data.drop(column_name, axis=1)\n",
    "    validation_data.drop(column_name, axis=1)\n",
    "\n",
    "def MSZoning(dataSet):\n",
    "    #1hot\n",
    "    #anything with C(all) gets 1s for each\n",
    "    #delete C(all)\n",
    "\n",
    "def transformations(dataSet):\n",
    "    return {\n",
    "        \"MSSubClass\": drop(\"MSSubClass\"),\n",
    "        \"MSZoning\": MSZoning\n",
    "    }\n",
    " "
   ]
  },
  {
   "attachments": {},
   "cell_type": "markdown",
   "metadata": {},
   "source": [
    "## 2do\n",
    "\n",
    "- auto-build a template:\n",
    "  - should have the useful functions (drop, one_hot, etc)\n",
    "  - generate a \"transformations\" function that returns a dict with a key for each column that calls drop"
   ]
  }
 ],
 "metadata": {
  "kernelspec": {
   "display_name": "Python 3",
   "language": "python",
   "name": "python3"
  },
  "language_info": {
   "name": "python",
   "version": "3.10.12"
  },
  "orig_nbformat": 4,
  "vscode": {
   "interpreter": {
    "hash": "916dbcbb3f70747c44a77c7bcd40155683ae19c65e1c03b4aa3499c5328201f1"
   }
  }
 },
 "nbformat": 4,
 "nbformat_minor": 2
}
