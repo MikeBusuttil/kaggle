{
 "cells": [
  {
   "cell_type": "code",
   "execution_count": 112,
   "metadata": {},
   "outputs": [
    {
     "data": {
      "text/html": [
       "<style>.container { width:100% !important; }</style>"
      ],
      "text/plain": [
       "<IPython.core.display.HTML object>"
      ]
     },
     "metadata": {},
     "output_type": "display_data"
    }
   ],
   "source": [
    "import pandas as pd\n",
    "from sklearn.ensemble import RandomForestRegressor\n",
    "from sklearn.metrics import mean_absolute_error\n",
    "from sklearn.model_selection import train_test_split\n",
    "from sigfig import round\n",
    "from sklearn.preprocessing import OrdinalEncoder, OneHotEncoder\n",
    "pd.set_option('display.max_colwidth', None)\n",
    "from IPython.display import display, HTML\n",
    "display(HTML(\"<style>.container { width:100% !important; }</style>\"))"
   ]
  },
  {
   "cell_type": "code",
   "execution_count": 113,
   "metadata": {},
   "outputs": [],
   "source": [
    "def score_dataset(X_train, X_valid, y_train, y_valid):\n",
    "    model = RandomForestRegressor(n_estimators=100, random_state=0)\n",
    "    model.fit(X_train, y_train)\n",
    "    predictions = model.predict(X_valid)\n",
    "    return mean_absolute_error(y_valid, predictions)\n",
    "\n",
    "def currency(val):\n",
    "    return f\"$ {round(str(val), decimals=2, spacing=3, spacer=',')}\""
   ]
  },
  {
   "cell_type": "code",
   "execution_count": 114,
   "metadata": {},
   "outputs": [],
   "source": [
    "data = pd.read_csv(\"./melb_data.csv\")"
   ]
  },
  {
   "cell_type": "code",
   "execution_count": 115,
   "metadata": {},
   "outputs": [
    {
     "data": {
      "text/plain": [
       "130116"
      ]
     },
     "execution_count": 115,
     "metadata": {},
     "output_type": "execute_result"
    }
   ],
   "source": [
    "# strip rows with anything missing\n",
    "dropped_rows = pd.DataFrame(row for _, row in data.iterrows() if not row.isnull().any())\n",
    "row_data_count = len(dropped_rows.columns) * len(dropped_rows)\n",
    "row_data_count"
   ]
  },
  {
   "cell_type": "code",
   "execution_count": 116,
   "metadata": {},
   "outputs": [
    {
     "data": {
      "text/plain": [
       "230860"
      ]
     },
     "execution_count": 116,
     "metadata": {},
     "output_type": "execute_result"
    }
   ],
   "source": [
    "dropped_cols = data.drop([col for col in data.columns if data[col].isnull().any()], axis=1)\n",
    "col_data_count = len(dropped_cols.columns) * len(dropped_cols)\n",
    "col_data_count"
   ]
  },
  {
   "cell_type": "code",
   "execution_count": 117,
   "metadata": {},
   "outputs": [],
   "source": [
    "#decide which to go with\n",
    "if row_data_count > col_data_count:\n",
    "    X = dropped_rows\n",
    "else:\n",
    "    X = dropped_cols\n",
    "y = X.Price\n",
    "X = X.drop(['Price'], axis=1)"
   ]
  },
  {
   "cell_type": "code",
   "execution_count": 118,
   "metadata": {},
   "outputs": [],
   "source": [
    "X_training, X_validation, y_training, y_validation = train_test_split(X, y, train_size=0.8, test_size=0.2, random_state=0)"
   ]
  },
  {
   "cell_type": "code",
   "execution_count": 119,
   "metadata": {},
   "outputs": [
    {
     "name": "stdout",
     "output_type": "stream",
     "text": [
      "['Suburb', 'Address', 'Type', 'Method', 'SellerG', 'Date', 'Regionname']\n",
      "MAE from Approach 1 (Drop categorical variables):\n"
     ]
    },
    {
     "data": {
      "text/plain": [
       "'$ 175,703.48'"
      ]
     },
     "execution_count": 119,
     "metadata": {},
     "output_type": "execute_result"
    }
   ],
   "source": [
    "# drop categorical columns\n",
    "Xt_dropped = X_training.copy()\n",
    "Xv_dropped = X_validation.copy()\n",
    "cols_without_numbers = [col for col in X.columns if X[col].dtype == 'object']\n",
    "print(cols_without_numbers)\n",
    "for x in [Xt_dropped, Xv_dropped]:\n",
    "    x.drop(cols_without_numbers, axis=1, inplace=True)\n",
    "\n",
    "print(\"MAE from Approach 1 (Drop categorical variables):\")\n",
    "currency(score_dataset(Xt_dropped, Xv_dropped, y_training, y_validation))"
   ]
  },
  {
   "cell_type": "code",
   "execution_count": 120,
   "metadata": {},
   "outputs": [
    {
     "name": "stdout",
     "output_type": "stream",
     "text": [
      "['Type', 'Method', 'Regionname']\n",
      "       Rooms  Type  Method  Distance  Postcode  Bedroom2  Bathroom  Landsize  \\\n",
      "12167      1   2.0     1.0       5.0    3182.0       1.0       1.0       0.0   \n",
      "6524       2   0.0     2.0       8.0    3016.0       2.0       2.0     193.0   \n",
      "8413       3   0.0     1.0      12.6    3020.0       3.0       1.0     555.0   \n",
      "2919       3   2.0     3.0      13.0    3046.0       3.0       1.0     265.0   \n",
      "6043       3   0.0     1.0      13.3    3020.0       3.0       1.0     673.0   \n",
      "...      ...   ...     ...       ...       ...       ...       ...       ...   \n",
      "13123      3   0.0     3.0       5.2    3056.0       3.0       1.0     212.0   \n",
      "3264       3   0.0     1.0      10.5    3081.0       3.0       1.0     748.0   \n",
      "9845       4   0.0     0.0       6.7    3058.0       4.0       2.0     441.0   \n",
      "10799      3   0.0     1.0      12.0    3073.0       3.0       1.0     606.0   \n",
      "2732       4   0.0     3.0       6.4    3011.0       4.0       2.0     319.0   \n",
      "\n",
      "       Lattitude  Longtitude  Regionname  Propertycount  \n",
      "12167  -37.85984   144.98670         5.0        13240.0  \n",
      "6524   -37.85800   144.90050         6.0         6380.0  \n",
      "8413   -37.79880   144.82200         6.0         3755.0  \n",
      "2919   -37.70830   144.91580         2.0         8870.0  \n",
      "6043   -37.76230   144.82720         6.0         4217.0  \n",
      "...          ...         ...         ...            ...  \n",
      "13123  -37.77695   144.95785         2.0        11918.0  \n",
      "3264   -37.74160   145.04810         0.0         2947.0  \n",
      "9845   -37.73572   144.97256         2.0        11204.0  \n",
      "10799  -37.72057   145.02615         2.0        21650.0  \n",
      "2732   -37.79430   144.88750         6.0         7570.0  \n",
      "\n",
      "[10864 rows x 12 columns] \n",
      "\n",
      "MAE from Approach 1 (Drop categorical variables):\n",
      "$ 165,986.80\n"
     ]
    }
   ],
   "source": [
    "# Encode selected categories, drop the rest\n",
    "Xt_encoded = X_training.copy()\n",
    "Xv_encoded = X_validation.copy()\n",
    "\n",
    "# print([(col, len(set(X_training[col]))) for col in X.columns if X[col].dtype == 'object'])\n",
    "for x in [Xt_encoded, Xv_encoded]:\n",
    "    x.drop([col for col in x.columns if X[col].dtype == 'object' and len(set(X[col])) > 10], axis=1, inplace=True)\n",
    "\n",
    "cols_to_be_encoded = [col for col in X.columns if X[col].dtype == 'object' and len(set(X[col])) <= 10]\n",
    "print(cols_to_be_encoded)\n",
    "\n",
    "ordinal_encoder = OrdinalEncoder()\n",
    "Xt_encoded[cols_to_be_encoded] = ordinal_encoder.fit_transform(X_training[cols_to_be_encoded])\n",
    "Xv_encoded[cols_to_be_encoded] = ordinal_encoder.transform(X_validation[cols_to_be_encoded])\n",
    "\n",
    "print(Xt_encoded, \"\\n\")\n",
    "print(\"MAE from Approach 1 (Drop categorical variables):\")\n",
    "print(currency(score_dataset(Xt_encoded, Xv_encoded, y_training, y_validation)))"
   ]
  },
  {
   "cell_type": "code",
   "execution_count": 127,
   "metadata": {},
   "outputs": [
    {
     "name": "stdout",
     "output_type": "stream",
     "text": [
      "       Rooms  Distance  Postcode  Bedroom2  Bathroom  Landsize  Lattitude  \\\n",
      "12167      1       5.0    3182.0       1.0       1.0       0.0  -37.85984   \n",
      "6524       2       8.0    3016.0       2.0       2.0     193.0  -37.85800   \n",
      "8413       3      12.6    3020.0       3.0       1.0     555.0  -37.79880   \n",
      "2919       3      13.0    3046.0       3.0       1.0     265.0  -37.70830   \n",
      "6043       3      13.3    3020.0       3.0       1.0     673.0  -37.76230   \n",
      "...      ...       ...       ...       ...       ...       ...        ...   \n",
      "13123      3       5.2    3056.0       3.0       1.0     212.0  -37.77695   \n",
      "3264       3      10.5    3081.0       3.0       1.0     748.0  -37.74160   \n",
      "9845       4       6.7    3058.0       4.0       2.0     441.0  -37.73572   \n",
      "10799      3      12.0    3073.0       3.0       1.0     606.0  -37.72057   \n",
      "2732       4       6.4    3011.0       4.0       2.0     319.0  -37.79430   \n",
      "\n",
      "       Longtitude  Propertycount    0  ...    6    7    8    9   10   11   12  \\\n",
      "12167   144.98670        13240.0  0.0  ...  0.0  0.0  0.0  0.0  0.0  0.0  0.0   \n",
      "6524    144.90050         6380.0  1.0  ...  0.0  0.0  0.0  0.0  0.0  0.0  0.0   \n",
      "8413    144.82200         3755.0  1.0  ...  0.0  0.0  0.0  0.0  0.0  0.0  0.0   \n",
      "2919    144.91580         8870.0  0.0  ...  1.0  0.0  0.0  0.0  1.0  0.0  0.0   \n",
      "6043    144.82720         4217.0  1.0  ...  0.0  0.0  0.0  0.0  0.0  0.0  0.0   \n",
      "...           ...            ...  ...  ...  ...  ...  ...  ...  ...  ...  ...   \n",
      "13123   144.95785        11918.0  1.0  ...  1.0  0.0  0.0  0.0  1.0  0.0  0.0   \n",
      "3264    145.04810         2947.0  1.0  ...  0.0  0.0  1.0  0.0  0.0  0.0  0.0   \n",
      "9845    144.97256        11204.0  1.0  ...  0.0  0.0  0.0  0.0  1.0  0.0  0.0   \n",
      "10799   145.02615        21650.0  1.0  ...  0.0  0.0  0.0  0.0  1.0  0.0  0.0   \n",
      "2732    144.88750         7570.0  1.0  ...  1.0  0.0  0.0  0.0  0.0  0.0  0.0   \n",
      "\n",
      "        13   14   15  \n",
      "12167  1.0  0.0  0.0  \n",
      "6524   0.0  1.0  0.0  \n",
      "8413   0.0  1.0  0.0  \n",
      "2919   0.0  0.0  0.0  \n",
      "6043   0.0  1.0  0.0  \n",
      "...    ...  ...  ...  \n",
      "13123  0.0  0.0  0.0  \n",
      "3264   0.0  0.0  0.0  \n",
      "9845   0.0  0.0  0.0  \n",
      "10799  0.0  0.0  0.0  \n",
      "2732   0.0  1.0  0.0  \n",
      "\n",
      "[10864 rows x 25 columns] \n",
      "\n",
      "MAE from Approach 3 (One-Hot Encoding):\n",
      "$ 166,089.49\n"
     ]
    }
   ],
   "source": [
    "# generate the new columns and values\n",
    "OH_encoder = OneHotEncoder(handle_unknown='ignore', sparse_output=False)\n",
    "One_hotted_only_training = pd.DataFrame(OH_encoder.fit_transform(X_training[cols_to_be_encoded]))\n",
    "One_hotted_only_validation = pd.DataFrame(OH_encoder.transform(X_validation[cols_to_be_encoded]))\n",
    "# attach the correct index to each row\n",
    "One_hotted_only_training.index = X_training.index\n",
    "One_hotted_only_validation.index = X_validation.index\n",
    "# print([col for col in One_hotted_only_training.columns])\n",
    "One_hotted_only_training.columns = [str(col) for col in One_hotted_only_training.columns]\n",
    "One_hotted_only_validation.columns = [str(col) for col in One_hotted_only_training.columns]\n",
    "\n",
    "Xt_1hotted = pd.concat([X_training.drop(cols_without_numbers, axis=1), One_hotted_only_training], axis=1)\n",
    "Xv_1hotted = pd.concat([X_validation.drop(cols_without_numbers, axis=1), One_hotted_only_validation], axis=1)\n",
    "\n",
    "print(Xt_1hotted, \"\\n\")\n",
    "print(\"MAE from Approach 3 (One-Hot Encoding):\") \n",
    "print(currency(score_dataset(Xt_1hotted, Xv_1hotted, y_training, y_validation)))"
   ]
  },
  {
   "cell_type": "code",
   "execution_count": null,
   "metadata": {},
   "outputs": [],
   "source": []
  }
 ],
 "metadata": {
  "kernelspec": {
   "display_name": "Python 3",
   "language": "python",
   "name": "python3"
  },
  "language_info": {
   "codemirror_mode": {
    "name": "ipython",
    "version": 3
   },
   "file_extension": ".py",
   "mimetype": "text/x-python",
   "name": "python",
   "nbconvert_exporter": "python",
   "pygments_lexer": "ipython3",
   "version": "3.8.10"
  },
  "orig_nbformat": 4,
  "vscode": {
   "interpreter": {
    "hash": "916dbcbb3f70747c44a77c7bcd40155683ae19c65e1c03b4aa3499c5328201f1"
   }
  }
 },
 "nbformat": 4,
 "nbformat_minor": 2
}
