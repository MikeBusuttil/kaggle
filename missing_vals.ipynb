{
 "cells": [
  {
   "cell_type": "code",
   "execution_count": 2,
   "metadata": {},
   "outputs": [
    {
     "data": {
      "text/html": [
       "<style>.container { width:100% !important; }</style>"
      ],
      "text/plain": [
       "<IPython.core.display.HTML object>"
      ]
     },
     "metadata": {},
     "output_type": "display_data"
    }
   ],
   "source": [
    "import pandas as pd\n",
    "from sklearn.model_selection import train_test_split\n",
    "\n",
    "pd.set_option('display.max_colwidth', None)\n",
    "from IPython.display import display, HTML\n",
    "display(HTML(\"<style>.container { width:100% !important; }</style>\"))"
   ]
  },
  {
   "cell_type": "code",
   "execution_count": 32,
   "metadata": {},
   "outputs": [],
   "source": [
    "# Read the data\n",
    "X_full = pd.read_csv('train.csv', index_col='Id')\n",
    "X_test_full = pd.read_csv('test.csv', index_col='Id')\n",
    "\n",
    "# Remove rows with missing target, separate target from predictors\n",
    "X_full.dropna(axis=0, subset=['SalePrice'], inplace=True)\n",
    "y = X_full.SalePrice\n",
    "X_full.drop(['SalePrice'], axis=1, inplace=True)\n",
    "\n",
    "# To keep things simple, we'll use only numerical predictors\n",
    "X = X_full.select_dtypes(exclude=['object'])\n",
    "X_test = X_test_full.select_dtypes(exclude=['object'])\n",
    "\n",
    "# Break off validation set from training data\n",
    "X_train, X_valid, y_train, y_valid = train_test_split(X, y, train_size=0.8, test_size=0.2,\n",
    "                                                      random_state=0)"
   ]
  },
  {
   "cell_type": "code",
   "execution_count": 7,
   "metadata": {},
   "outputs": [
    {
     "name": "stdout",
     "output_type": "stream",
     "text": [
      "1121 x 37\n",
      "1121 x 37\n"
     ]
    }
   ],
   "source": [
    "X_full = pd.read_csv('1-home-data/train.csv', index_col='Id')\n",
    "X_full = X_full.select_dtypes(exclude=['object']) #exclude non-numeric\n",
    "# list(X_full.iterrows())\n",
    "X_cut_rows1 = pd.DataFrame(row for _, row in X_full.iterrows() if not row.isnull().any())\n",
    "X_cut_rows2 = X_full.dropna(axis=0)\n",
    "# list(X_full.loc[5].isnull())\n",
    "print(len(X_cut_rows1), \"x\", len(X_cut_rows1.columns))\n",
    "print(len(X_cut_rows2), \"x\", len(X_cut_rows2.columns))"
   ]
  },
  {
   "cell_type": "code",
   "execution_count": null,
   "metadata": {},
   "outputs": [],
   "source": [
    "# start from scratch\n",
    "X_train_A = pd.read_csv('../input/train.csv', index_col='Id')\n",
    "X_test_full = pd.read_csv('../input/test.csv', index_col='Id')\n",
    "\n",
    "# remove non-numbers\n",
    "X_train_A = X_train_A.select_dtypes(exclude=['object'])\n",
    "\n",
    "# remove rows with missing values\n",
    "X_train_A = pd.DataFrame(row for id, row in X_train_A.iterrows() if not row.isnull().any())\n",
    "\n",
    "# split x & y\n",
    "y_train_A = X_train_A.SalePrice\n",
    "X_train_A.drop(['SalePrice'], axis=1, inplace=True)\n",
    "\n",
    "# Preprocessed training and validation features\n",
    "final_X_train, final_X_valid, y_train, y_valid = train_test_split(X_train_A, y_train_A, train_size=0.8, test_size=0.2, random_state=0)"
   ]
  },
  {
   "cell_type": "code",
   "execution_count": null,
   "metadata": {},
   "outputs": [],
   "source": []
  }
 ],
 "metadata": {
  "kernelspec": {
   "display_name": "Python 3",
   "language": "python",
   "name": "python3"
  },
  "language_info": {
   "codemirror_mode": {
    "name": "ipython",
    "version": 3
   },
   "file_extension": ".py",
   "mimetype": "text/x-python",
   "name": "python",
   "nbconvert_exporter": "python",
   "pygments_lexer": "ipython3",
   "version": "3.8.10"
  },
  "orig_nbformat": 4,
  "vscode": {
   "interpreter": {
    "hash": "916dbcbb3f70747c44a77c7bcd40155683ae19c65e1c03b4aa3499c5328201f1"
   }
  }
 },
 "nbformat": 4,
 "nbformat_minor": 2
}
